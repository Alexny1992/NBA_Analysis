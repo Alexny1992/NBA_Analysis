{
 "cells": [
  {
   "cell_type": "code",
   "execution_count": 2,
   "id": "946bd53c",
   "metadata": {},
   "outputs": [],
   "source": [
    "import pandas as pd \n",
    "import numpy as np "
   ]
  },
  {
   "cell_type": "code",
   "execution_count": 20,
   "id": "4318e193",
   "metadata": {},
   "outputs": [
    {
     "name": "stdout",
     "output_type": "stream",
     "text": [
      "     Season       0                                                  1    2   \n",
      "0            #NAME?   please cite us and provide a link and/or a me...  NaN  \\\n",
      "1               NaN                                                NaN  NaN   \n",
      "2               NaN                                                NaN  NaN   \n",
      "3                                                                  NaN  NaN   \n",
      "4                Rk                                             Player  Pos   \n",
      "...     ...     ...                                                ...  ...   \n",
      "5776            536                                       Delon Wright   PG   \n",
      "5777            537                                     Thaddeus Young   PF   \n",
      "5778            538                                         Trae Young   PG   \n",
      "5779            539                                        Cody Zeller    C   \n",
      "5780            540                                        Ivica Zubac    C   \n",
      "\n",
      "        3    4    5    6     7    8  ...   21   22   23   24   25   26   27   \n",
      "0     NaN  NaN  NaN  NaN   NaN  NaN  ...  NaN  NaN  NaN  NaN  NaN  NaN  NaN  \\\n",
      "1     NaN  NaN  NaN  NaN   NaN  NaN  ...  NaN  NaN  NaN  NaN  NaN  NaN  NaN   \n",
      "2     NaN  NaN  NaN  NaN   NaN  NaN  ...  NaN  NaN  NaN  NaN  NaN  NaN  NaN   \n",
      "3     NaN  NaN  NaN  NaN   NaN  NaN  ...  NaN  NaN  NaN  NaN  NaN  NaN  NaN   \n",
      "4     Age   Tm    G   GS    MP   FG  ...  ORB  DRB  TRB  AST  STL  BLK  TOV   \n",
      "...   ...  ...  ...  ...   ...  ...  ...  ...  ...  ...  ...  ...  ...  ...   \n",
      "5776   28  SAC   27    8  25.8  3.9  ...    1  2.9  3.9  3.6  1.6  0.4  1.3   \n",
      "5777   32  CHI   68   23  24.3  5.4  ...  2.5  3.8  6.2  4.3  1.1  0.6    2   \n",
      "5778   22  ATL   63   63  33.7  7.7  ...  0.6  3.3  3.9  9.4  0.8  0.2  4.1   \n",
      "5779   28  CHO   48   21  20.9  3.8  ...  2.5  4.4  6.8  1.8  0.6  0.4  1.1   \n",
      "5780   23  LAC   72   33  22.3  3.6  ...  2.6  4.6  7.2  1.3  0.3  0.9  1.1   \n",
      "\n",
      "       28    29                 30  \n",
      "0     NaN   NaN                NaN  \n",
      "1     NaN   NaN                NaN  \n",
      "2     NaN   NaN                NaN  \n",
      "3     NaN   NaN                NaN  \n",
      "4      PF   PTS  Player-additional  \n",
      "...   ...   ...                ...  \n",
      "5776  1.1    10          wrighde01  \n",
      "5777  2.2  12.1          youngth01  \n",
      "5778  1.8  25.3          youngtr01  \n",
      "5779  2.5   9.4          zelleco01  \n",
      "5780  2.6     9          zubaciv01  \n",
      "\n",
      "[5781 rows x 32 columns]\n"
     ]
    }
   ],
   "source": [
    "df = pd.read_csv('123.csv',header=None)\n",
    "df.insert(0, 'Season', '')\n",
    "#populate season\n",
    "for rank\n",
    "df.concat()\n",
    "print(df)"
   ]
  }
 ],
 "metadata": {
  "kernelspec": {
   "display_name": "Python 3 (ipykernel)",
   "language": "python",
   "name": "python3"
  },
  "language_info": {
   "codemirror_mode": {
    "name": "ipython",
    "version": 3
   },
   "file_extension": ".py",
   "mimetype": "text/x-python",
   "name": "python",
   "nbconvert_exporter": "python",
   "pygments_lexer": "ipython3",
   "version": "3.11.3"
  }
 },
 "nbformat": 4,
 "nbformat_minor": 5
}
