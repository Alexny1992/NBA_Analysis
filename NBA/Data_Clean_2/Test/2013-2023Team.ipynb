{
 "cells": [
  {
   "cell_type": "code",
   "execution_count": 59,
   "metadata": {},
   "outputs": [],
   "source": [
    "import pandas as pd \n",
    "import numpy as np\n",
    "import csv\n",
    "\n",
    "df = pd.read_csv('2013-2023-Regular-TeamTotals-raw.csv')\n",
    "df2 = df.dropna(axis=0, how='all')\n",
    "df3 = df.dropna(axis=1, how='all')\n",
    "# df3.insert(0,'Season','')\n",
    "\n",
    "\n",
    "\n"
   ]
  },
  {
   "cell_type": "code",
   "execution_count": 60,
   "metadata": {},
   "outputs": [
    {
     "name": "stdout",
     "output_type": "stream",
     "text": [
      "                                                                                                                                                                                                                                                                                                                     --- When using SR data   \n",
      "NaN NaN                    NaN  NaN NaN NaN NaN NaN    NaN   NaN   NaN   NaN   NaN  NaN   NaN  NaN  NaN  NaN Offense Four Factors Offense Four Factors Offense Four Factors Offense Four Factors NaN Defense Four Factors Defense Four Factors Defense Four Factors Defense Four Factors NaN NaN                                        NaN  \\\n",
      "Rk  Team                   Age  W   L   PW  PL  MOV    SOS   SRS   ORtg  DRtg  NRtg Pace  FTr  3PAr TS%  NaN eFG%                 TOV%                 ORB%                 FT/FGA               NaN eFG%                 TOV%                 DRB%                 FT/FGA               NaN Arena                                  Attend.   \n",
      "1   Oklahoma City Thunder* 26.0 60  22  64  18  9.21   -0.06 9.15  112.4 102.6 +9.8 93.3  .338 .244 .580 NaN .527                 14.4                 26.7                 .280                 NaN .469                 13.5                 73.4                 .197                 NaN Chesapeake Energy Arena                 746323   \n",
      "2   Miami Heat*            30.3 66  16  62  20  7.87   -0.84 7.03  112.3 103.7 +8.6 90.7  .297 .285 .588 NaN .552                 13.7                 22.2                 .224                 NaN .487                 14.8                 73.0                 .200                 NaN AmericanAirlines Arena                  819290   \n",
      "3   Los Angeles Clippers*  28.8 56  26  59  23  6.45   -0.02 6.43  110.6 103.6 +7.0 91.1  .286 .265 .557 NaN .526                 13.9                 28.8                 .203                 NaN .492                 15.4                 73.5                 .229                 NaN STAPLES Center                          788293   \n",
      "...                                                                                                                                                                                                                                                                                                                                     ...   \n",
      "27  Charlotte Hornets      25.3 27  55  26  56  -6.24  0.35  -5.89 109.2 115.3 -6.1 100.8 .261 .360 .550 NaN .516                 12.3                 23.8                 .195                 NaN .544                 12.5                 75.5                 .211                 NaN Spectrum Center                         702052   \n",
      "28  Houston Rockets        22.1 22  60  23  59  -7.85  0.24  -7.62 111.4 119.3 -7.9 99.0  .285 .359 .554 NaN .516                 14.0                 30.2                 .215                 NaN .564                 11.8                 75.8                 .218                 NaN Toyota Center                           668865   \n",
      "29  Detroit Pistons        24.1 17  65  22  60  -8.22  0.49  -7.73 110.7 118.9 -8.2 99.0  .295 .372 .561 NaN .520                 13.3                 24.9                 .227                 NaN .557                 11.9                 74.0                 .231                 NaN Little Caesars Arena                    759715   \n",
      "30  San Antonio Spurs      23.9 22  60  19  63  -10.04 0.22  -9.82 110.2 120.0 -9.8 101.6 .229 .348 .554 NaN .525                 13.0                 25.6                 .170                 NaN .576                 12.0                 74.9                 .201                 NaN AT&T Center                             694434   \n",
      "NaN League Average         26.3 NaN NaN 41  41  0.00   0.00  0.00  114.8 114.8 NaN  99.1  .266 .387 .581 NaN .545                 12.5                 24.0                 .208                 NaN .545                 12.5                 76.0                 .208                 NaN NaN                                     739257   \n",
      "\n",
      "                                                                                                                                                                                                                                                                                                                      please cite us and provide a link and/or a mention.  \n",
      "NaN NaN                    NaN  NaN NaN NaN NaN NaN    NaN   NaN   NaN   NaN   NaN  NaN   NaN  NaN  NaN  NaN Offense Four Factors Offense Four Factors Offense Four Factors Offense Four Factors NaN Defense Four Factors Defense Four Factors Defense Four Factors Defense Four Factors NaN NaN                                                                    NaN    \n",
      "Rk  Team                   Age  W   L   PW  PL  MOV    SOS   SRS   ORtg  DRtg  NRtg Pace  FTr  3PAr TS%  NaN eFG%                 TOV%                 ORB%                 FT/FGA               NaN eFG%                 TOV%                 DRB%                 FT/FGA               NaN Arena                                                            Attend./G    \n",
      "1   Oklahoma City Thunder* 26.0 60  22  64  18  9.21   -0.06 9.15  112.4 102.6 +9.8 93.3  .338 .244 .580 NaN .527                 14.4                 26.7                 .280                 NaN .469                 13.5                 73.4                 .197                 NaN Chesapeake Energy Arena                                              18203    \n",
      "2   Miami Heat*            30.3 66  16  62  20  7.87   -0.84 7.03  112.3 103.7 +8.6 90.7  .297 .285 .588 NaN .552                 13.7                 22.2                 .224                 NaN .487                 14.8                 73.0                 .200                 NaN AmericanAirlines Arena                                               19983    \n",
      "3   Los Angeles Clippers*  28.8 56  26  59  23  6.45   -0.02 6.43  110.6 103.6 +7.0 91.1  .286 .265 .557 NaN .526                 13.9                 28.8                 .203                 NaN .492                 15.4                 73.5                 .229                 NaN STAPLES Center                                                       19227    \n",
      "...                                                                                                                                                                                                                                                                                                                                                                 ...    \n",
      "27  Charlotte Hornets      25.3 27  55  26  56  -6.24  0.35  -5.89 109.2 115.3 -6.1 100.8 .261 .360 .550 NaN .516                 12.3                 23.8                 .195                 NaN .544                 12.5                 75.5                 .211                 NaN Spectrum Center                                                      17123    \n",
      "28  Houston Rockets        22.1 22  60  23  59  -7.85  0.24  -7.62 111.4 119.3 -7.9 99.0  .285 .359 .554 NaN .516                 14.0                 30.2                 .215                 NaN .564                 11.8                 75.8                 .218                 NaN Toyota Center                                                        16314    \n",
      "29  Detroit Pistons        24.1 17  65  22  60  -8.22  0.49  -7.73 110.7 118.9 -8.2 99.0  .295 .372 .561 NaN .520                 13.3                 24.9                 .227                 NaN .557                 11.9                 74.0                 .231                 NaN Little Caesars Arena                                                 18596    \n",
      "30  San Antonio Spurs      23.9 22  60  19  63  -10.04 0.22  -9.82 110.2 120.0 -9.8 101.6 .229 .348 .554 NaN .525                 13.0                 25.6                 .170                 NaN .576                 12.0                 74.9                 .201                 NaN AT&T Center                                                          15508    \n",
      "NaN League Average         26.3 NaN NaN 41  41  0.00   0.00  0.00  114.8 114.8 NaN  99.1  .266 .387 .581 NaN .545                 12.5                 24.0                 .208                 NaN .545                 12.5                 76.0                 .208                 NaN NaN                                                                  17993    \n",
      "\n",
      "[373 rows x 2 columns]\n"
     ]
    }
   ],
   "source": [
    "print(df3)\n"
   ]
  }
 ],
 "metadata": {
  "kernelspec": {
   "display_name": "Python 3",
   "language": "python",
   "name": "python3"
  },
  "language_info": {
   "codemirror_mode": {
    "name": "ipython",
    "version": 3
   },
   "file_extension": ".py",
   "mimetype": "text/x-python",
   "name": "python",
   "nbconvert_exporter": "python",
   "pygments_lexer": "ipython3",
   "version": "3.11.3"
  },
  "orig_nbformat": 4
 },
 "nbformat": 4,
 "nbformat_minor": 2
}
